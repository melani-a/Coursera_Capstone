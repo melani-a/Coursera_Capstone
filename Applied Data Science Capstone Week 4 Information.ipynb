{
    "cells": [
        {
            "cell_type": "markdown",
            "metadata": {
                "collapsed": true
            },
            "source": "# Introduction"
        },
        {
            "cell_type": "markdown",
            "metadata": {},
            "source": "Toronto is the capital city of the Canadian province of Ontario and the most populous city in Canada. Downtown Toronto is the main central business district of Toronto. <br/>\nWhen someone want to move from one neighborhood to another neighborhood in Downtown Toronto, the person would like to move to another neighborhood with similar amenities. <br/>\nIn this project we will use k-means clustering algorithm to find the neighborhoods with similar amenities. The area around the Downtown Toronto will be clustered using their venue data."
        },
        {
            "cell_type": "markdown",
            "metadata": {},
            "source": "# Data"
        },
        {
            "cell_type": "markdown",
            "metadata": {},
            "source": "Postal code, neighborhood and borough from the following link: <br/>\n    \"https://en.wikipedia.org/wiki/List_of_postal_codes_of_Canada:_M\" <br/><br/>\nI will also use FourSquare API to get venues data in Downtown Toronto based on the latitude and longitude of the neighborhoods."
        },
        {
            "cell_type": "code",
            "execution_count": null,
            "metadata": {},
            "outputs": [],
            "source": ""
        }
    ],
    "metadata": {
        "kernelspec": {
            "display_name": "Python 3.7",
            "language": "python",
            "name": "python3"
        },
        "language_info": {
            "codemirror_mode": {
                "name": "ipython",
                "version": 3
            },
            "file_extension": ".py",
            "mimetype": "text/x-python",
            "name": "python",
            "nbconvert_exporter": "python",
            "pygments_lexer": "ipython3",
            "version": "3.7.10"
        }
    },
    "nbformat": 4,
    "nbformat_minor": 1
}